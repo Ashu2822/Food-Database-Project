{
 "cells": [
  {
   "cell_type": "code",
   "execution_count": 1,
   "id": "ec0aae1d",
   "metadata": {},
   "outputs": [],
   "source": [
    "import pandas as pd"
   ]
  },
  {
   "cell_type": "code",
   "execution_count": 4,
   "id": "6c45d401",
   "metadata": {},
   "outputs": [],
   "source": [
    "class Restaurants:\n",
    "    def __init__(self,restaurant_id, restaurant_name, restaurant_address, restaurant_type):\n",
    "        self.restaurant_id = restaurant_id\n",
    "        self.restaurant_name = restaurant_name\n",
    "        self.restaurant_address = restaurant_address\n",
    "        self.restaurant_type = restaurant_type\n",
    "        \n",
    "class Menu:\n",
    "    def __init__(self, m_id, restaurant_id, item_name, price):\n",
    "        self.m_id = m_id\n",
    "        self.restaurant_id = restaurant_id\n",
    "        self.item_name = item_name\n",
    "        self.price = price\n",
    "        \n",
    "class Customers:\n",
    "    def __init__(self, cus_id, name, email, password):\n",
    "        self.cus_id = cus_id\n",
    "        self.name = name\n",
    "        self.email = email\n",
    "        self.password = password\n",
    "        \n",
    "class Address:\n",
    "    def __init__(self, address_id, cus_id, area, city, pincode):\n",
    "        self.address_id = address_id\n",
    "        self.cus_id = cus_id\n",
    "        self.area = area\n",
    "        self.city = city\n",
    "        self.pincode = pincode\n",
    "        \n",
    "class Drivers:\n",
    "    def __init__(self, driver_id, name, mobile_no, address):\n",
    "        self.driver_id = driver_id\n",
    "        self.name = name\n",
    "        self.mobile_no = mobile_no\n",
    "        self.address = address\n",
    "        \n",
    "class Orders:\n",
    "    def __init__(self, order_id, restaurant_id, cus_id, driver_id, m_id, date, address):\n",
    "        self.order_id = order_id\n",
    "        self.restaurant_id = restaurant_id\n",
    "        self.cus_id = cus_id\n",
    "        self.driver_id = driver_id\n",
    "        self.m_id = m_id\n",
    "        self.date = date\n",
    "        self.address = address\n",
    "        \n",
    "class Payment:\n",
    "    def __init__(self, payment_id, order_id, payment_mode, amount):\n",
    "        self.payment_id = payment_id\n",
    "        self.order_id = order_id\n",
    "        self.payment_mode = payment_mode\n",
    "        self.amount = amount\n",
    "        \n",
    "class Rating:\n",
    "    def __init__(self, rating_id, cus_id, restaurant_id, rating):\n",
    "        self.rating_id = rating_id\n",
    "        self.cus_id = cus_id\n",
    "        self.restaurant_id = restaurant_id\n",
    "        self.rating = rating\n",
    "        \n",
    "        \n",
    "\n",
    "        \n",
    "restaurants = [Restaurants(101, 'CityPride', 'Kothrud', 'Veg'), Restaurants(102, 'Divine', 'KoregaonPark','Non-Veg'),\n",
    "             Restaurants(103, 'Marriott', 'SBRoad','Non-Veg',), Restaurants(104, 'Regency Hotel','Baner', 'Veg' ),\n",
    "             Restaurants(105, 'Mandarin Oriental', 'Karvenagar', 'Veg')]\n",
    "\n",
    "menu = [Menu(901, 101, 'Rice,Noodles', 50), Menu(902, 101, 'Paneer,Roti', 80),\n",
    "          Menu(903, 101, 'Veggie,Roti', 50), Menu(904, 101, 'VegBiryani', 80),\n",
    "          Menu(905, 101, 'PaneerTikka', 90)]\n",
    "\n",
    "\n",
    "addresses = [Address(501, 1,'Katraj','Pune',411048),\n",
    "             Address(502, 2,'Kondhwa','Pune',411012),\n",
    "             Address(503, 3,'Kothrud','Pune',411046),\n",
    "             Address(504, 4,'Karvenagar','Pune',421048),\n",
    "             Address(505, 5,'Swargate','Pune',413048)]\n",
    "\n",
    "customers = [Customers(1, 'Aditya Gawade', 'adityagawade@gmail.com', 'Aditya@123'), Customers(2,'Ashish Kondare', 'ashishkondare@gmail.com', 'Ashish@123'),\n",
    "          Customers(3, 'Viraj Walanj', 'virajwalanj@gmail.com', 'Viraj@123'), Customers(4, 'Akash Chavan', 'akashchavan@gmail.com', 'Akash@123'),\n",
    "          Customers(5, 'Sourabh Gawade', 'sourabhgawade@gmail.com', 'Sourabh@123')]\n",
    "\n",
    "\n",
    "orders = [Orders(201,110,1,408,902,'2023-07-02','Wakad,pune'), Orders(202,104,2,412,915,'2023-07-04','Baner,Pune'),\n",
    "          Orders(203,108,3,403,920,'2023-07-03','Katraj,Pune'), Orders(204,115,4,411,922,'2023-07-04','Dhayari,Pune'),\n",
    "          Orders(205,109,17,401,909,'2023-07-04','Hadapsar,Pune')]\n",
    "\n",
    "\n"
   ]
  },
  {
   "cell_type": "code",
   "execution_count": 5,
   "id": "95f90956",
   "metadata": {},
   "outputs": [
    {
     "name": "stdout",
     "output_type": "stream",
     "text": [
      "order_id: 201\n",
      "restaurant_id: 110\n",
      "cus_id: 1\n",
      "driver_id: 408\n",
      "m_id: 902\n",
      "date: 2023-07-02\n",
      "address: Wakad,pune\n"
     ]
    }
   ],
   "source": [
    "orders = Orders(order_id = 201, restaurant_id = 110, cus_id = 1, driver_id = 408, m_id = 902, date = '2023-07-02', address = 'Wakad,pune')\n",
    "print(\"order_id:\", orders.order_id)\n",
    "print(\"restaurant_id:\", orders.restaurant_id)\n",
    "print(\"cus_id:\", orders.cus_id)\n",
    "print(\"driver_id:\", orders.driver_id)\n",
    "print(\"m_id:\", orders.m_id)\n",
    "print(\"date:\", orders.date)\n",
    "print(\"address:\", orders.address)\n"
   ]
  },
  {
   "cell_type": "code",
   "execution_count": 6,
   "id": "701b74fe",
   "metadata": {},
   "outputs": [
    {
     "name": "stdout",
     "output_type": "stream",
     "text": [
      "restaurant_id: 103\n",
      "restaurant_name: Marriott\n",
      "restaurant_address: SBRoad\n",
      "restaurant_type: Non-Veg\n"
     ]
    }
   ],
   "source": [
    "restaurants = Restaurants(103, 'Marriott', 'SBRoad','Non-Veg')\n",
    "print(\"restaurant_id:\", restaurants.restaurant_id)\n",
    "print(\"restaurant_name:\", restaurants.restaurant_name)\n",
    "print(\"restaurant_address:\",restaurants.restaurant_address)\n",
    "print(\"restaurant_type:\",restaurants.restaurant_type)\n"
   ]
  },
  {
   "cell_type": "code",
   "execution_count": 7,
   "id": "c1987bc2",
   "metadata": {},
   "outputs": [
    {
     "name": "stdout",
     "output_type": "stream",
     "text": [
      "m_id: 901\n",
      "restaurant_id: 101\n",
      "item_name: Rice,Noodles\n",
      "price: 50\n"
     ]
    }
   ],
   "source": [
    "menu = Menu(901, 101, 'Rice,Noodles', 50)\n",
    "print(\"m_id:\", menu.m_id)\n",
    "print(\"restaurant_id:\", menu.restaurant_id)\n",
    "print(\"item_name:\",menu.item_name)\n",
    "print(\"price:\",menu.price)\n"
   ]
  },
  {
   "cell_type": "code",
   "execution_count": 8,
   "id": "bfec478d",
   "metadata": {},
   "outputs": [
    {
     "name": "stdout",
     "output_type": "stream",
     "text": [
      "address_id: 504\n",
      "cus_id: 4\n",
      "area: Karvenagar\n",
      "city: Pune\n"
     ]
    }
   ],
   "source": [
    "addresses = Address(504, 4,'Karvenagar','Pune',421048)\n",
    "print(\"address_id:\", addresses.address_id)\n",
    "print(\"cus_id:\", addresses.cus_id)\n",
    "print(\"area:\",addresses.area)\n",
    "print(\"city:\",addresses.city)\n"
   ]
  },
  {
   "cell_type": "code",
   "execution_count": 10,
   "id": "36ec69d1",
   "metadata": {},
   "outputs": [
    {
     "name": "stdout",
     "output_type": "stream",
     "text": [
      "cus_id: 1\n",
      "name: Aditya Gawade\n",
      "email: adityagawade@gmail.com\n",
      "password: Aditya@123\n"
     ]
    }
   ],
   "source": [
    "customers = Customers(1, 'Aditya Gawade', 'adityagawade@gmail.com', 'Aditya@123')\n",
    "print(\"cus_id:\", customers.cus_id)\n",
    "print(\"name:\", customers.name)\n",
    "print(\"email:\", customers.email)\n",
    "print(\"password:\", customers.password)\n",
    "\n"
   ]
  },
  {
   "cell_type": "code",
   "execution_count": null,
   "id": "e291baee",
   "metadata": {},
   "outputs": [],
   "source": []
  }
 ],
 "metadata": {
  "kernelspec": {
   "display_name": "Python 3 (ipykernel)",
   "language": "python",
   "name": "python3"
  },
  "language_info": {
   "codemirror_mode": {
    "name": "ipython",
    "version": 3
   },
   "file_extension": ".py",
   "mimetype": "text/x-python",
   "name": "python",
   "nbconvert_exporter": "python",
   "pygments_lexer": "ipython3",
   "version": "3.10.9"
  }
 },
 "nbformat": 4,
 "nbformat_minor": 5
}
